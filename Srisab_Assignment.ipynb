{
 "cells": [
  {
   "cell_type": "markdown",
   "metadata": {},
   "source": [
    "# Python Assignment\n"
   ]
  },
  {
   "cell_type": "markdown",
   "metadata": {},
   "source": [
    "## Section 1: Conditional Statements"
   ]
  },
  {
   "cell_type": "code",
   "execution_count": 1,
   "metadata": {},
   "outputs": [
    {
     "name": "stdout",
     "output_type": "stream",
     "text": [
      "10 is an even number.\n"
     ]
    }
   ],
   "source": [
    "# 1. Program that asks the user to enter a number and checks whether the number is even or odd.\n",
    "\n",
    "# Asking the user for input\n",
    "num = int(input(\"Enter the number you wish to check: \"))\n",
    "\n",
    "# Checking the number for even or odd\n",
    "if num % 2 == 0:\n",
    "    print(f\"{num} is an even number.\")\n",
    "else:\n",
    "    print(f\"{num} is an odd number.\")"
   ]
  },
  {
   "cell_type": "code",
   "execution_count": 2,
   "metadata": {},
   "outputs": [
    {
     "name": "stdout",
     "output_type": "stream",
     "text": [
      "The number is positive.\n"
     ]
    }
   ],
   "source": [
    "# 2. Program that asks the user to enter a number and checks whether it is positive, negative, or zero.\n",
    "\n",
    "# Asking the user for input\n",
    "num = float(input(\"Enter a number: \"))\n",
    "\n",
    "# Conditional statements to check the number\n",
    "if num > 0:\n",
    "    print(\"The number is positive.\")\n",
    "elif num < 0:\n",
    "    print(\"The number is negative.\")\n",
    "else:\n",
    "    print(\"The number is zero.\")"
   ]
  },
  {
   "cell_type": "code",
   "execution_count": 3,
   "metadata": {},
   "outputs": [
    {
     "name": "stdout",
     "output_type": "stream",
     "text": [
      "Congrats! You are eligible to vote :)\n"
     ]
    }
   ],
   "source": [
    "# 3. Program that asks the user to enter their age and checks if they are eligible to vote.\n",
    "\n",
    "# Taking input from the user\n",
    "age = int(input(\"Hello user, What is your age?\"))\n",
    "\n",
    "# Checking eligibility\n",
    "if age >= 18:\n",
    "    print(\"Congrats! You are eligible to vote :)\")\n",
    "else:\n",
    "    print(\"Sorry! You are not eligible to vote :(\")"
   ]
  },
  {
   "cell_type": "code",
   "execution_count": 4,
   "metadata": {},
   "outputs": [
    {
     "name": "stdout",
     "output_type": "stream",
     "text": [
      "The triangle is Scalene!\n"
     ]
    }
   ],
   "source": [
    "# 4. Write a program that takes the lengths of three sides of a triangle as input and determines if the triangle is Equilateral, Isosceles or Scalene:\n",
    "\n",
    "# Taking input from the user\n",
    "len_1side = float(input(\"What is the length of the first side? \"))\n",
    "len_2side = float(input(\"What is the length of the second side? \"))\n",
    "len_3side = float(input(\"What is the length of the third side? \"))\n",
    "\n",
    "# Checking the triangle's properties\n",
    "if len_1side == len_2side == len_3side:\n",
    "        print(\"The triangle is Equilateral!\")\n",
    "elif len_1side == len_2side or len_2side == len_3side or len_1side == len_3side:\n",
    "        print(\"The triangle is Isosceles!\")\n",
    "else:\n",
    "        print(\"The triangle is Scalene!\")"
   ]
  },
  {
   "cell_type": "code",
   "execution_count": 5,
   "metadata": {},
   "outputs": [
    {
     "name": "stdout",
     "output_type": "stream",
     "text": [
      "The password is incorrect!\n"
     ]
    }
   ],
   "source": [
    "# 5. Program that asks the user to enter a password and checks if it matches a predefined password.\n",
    "\n",
    "# Asking the user for input\n",
    "user_pass = input(\"Enter the password: \")\n",
    "\n",
    "# Checking the password provided by the user\n",
    "if user_pass == \"W$NG\":\n",
    "    print(\"The password is correct!\")\n",
    "else:\n",
    "    print(\"The password is incorrect!\")"
   ]
  },
  {
   "cell_type": "markdown",
   "metadata": {},
   "source": [
    "## Section 2: \"For\" Loops"
   ]
  },
  {
   "cell_type": "code",
   "execution_count": 6,
   "metadata": {},
   "outputs": [
    {
     "name": "stdout",
     "output_type": "stream",
     "text": [
      "22\n",
      "44\n",
      "66\n",
      "88\n",
      "110\n",
      "132\n",
      "154\n",
      "176\n",
      "198\n",
      "220\n"
     ]
    }
   ],
   "source": [
    "# 1. Python program to print the multiplication table of a given number using a \"for\" loop.\n",
    "\n",
    "# Asking the user for input\n",
    "nber = int(input(\"Enter the number: \"))\n",
    "\n",
    "# Multiplication loop\n",
    "for y in range(nber, nber*10+1, nber):\n",
    "    print(y)"
   ]
  },
  {
   "cell_type": "code",
   "execution_count": 15,
   "metadata": {},
   "outputs": [
    {
     "name": "stdout",
     "output_type": "stream",
     "text": [
      "2\n"
     ]
    }
   ],
   "source": [
    "# 2. Program to count and display the number of vowels in a given string.\n",
    "\n",
    "# Take input from the user\n",
    "spell = input(\"Please enter a string/word \")\n",
    "\n",
    "# Counting the vowels in the provided word\n",
    "vowels = \"AEIOUaeiou\"\n",
    "count = 0\n",
    "\n",
    "for char in spell:\n",
    "    if char in vowels:\n",
    "        count += 1\n",
    "    \n",
    "print(count)\n"
   ]
  },
  {
   "cell_type": "code",
   "execution_count": 8,
   "metadata": {},
   "outputs": [
    {
     "name": "stdout",
     "output_type": "stream",
     "text": [
      "The sum of the even numbers in the list is 10\n"
     ]
    }
   ],
   "source": [
    "# 3. Program to find the sum of all even numbers in a list using a \"for\" loop.\n",
    "\n",
    "# Asking the user for input\n",
    "user_input =input(\"Enter the numbers separated by space \")\n",
    "numbers = list(map(int, user_input.split()))\n",
    "\n",
    "# Sum of the even numbers\n",
    "sum = 0\n",
    "for x in numbers:\n",
    "    if x % 2 == 0:\n",
    "        sum += x\n",
    "\n",
    "print(f\"The sum of the even numbers in the list is {sum}\")\n"
   ]
  },
  {
   "cell_type": "code",
   "execution_count": 9,
   "metadata": {},
   "outputs": [
    {
     "name": "stdout",
     "output_type": "stream",
     "text": [
      "1 is the smallest value in the list.\n",
      "5 is the largest value in the list.\n"
     ]
    }
   ],
   "source": [
    "# 4. Program to find the largest and smallest numbers in a list using a \"for\" loop.\n",
    "\n",
    "# Asking the user for input\n",
    "input_user =input(\"Enter the numbers separated by space \")\n",
    "numbers = list(map(int, input_user.split()))\n",
    "\n",
    "# Finding the largest and smallest number\n",
    "largest = numbers[0]\n",
    "smallest = numbers[0]\n",
    "\n",
    "for num in numbers:\n",
    "    if num > largest:\n",
    "        largest = num\n",
    "    elif num < smallest:\n",
    "        smallest = num\n",
    "    \n",
    "print(f\"{smallest} is the smallest value in the list.\")\n",
    "print(f\"{largest} is the largest value in the list.\")"
   ]
  },
  {
   "cell_type": "code",
   "execution_count": 10,
   "metadata": {},
   "outputs": [
    {
     "name": "stdout",
     "output_type": "stream",
     "text": [
      "11\n"
     ]
    }
   ],
   "source": [
    "# 5. Program to calculate the sum of digits of a given number using a \"for\" loop.\n",
    "\n",
    "# Taking input from the user\n",
    "number = int(input(\"Enter the number:\"))\n",
    "sum_digits = 0\n",
    "\n",
    "# Calculating the sum of digits\n",
    "for a in str(number):\n",
    "    sum_digits += int(a)\n",
    "\n",
    "print(sum_digits)\n"
   ]
  },
  {
   "cell_type": "code",
   "execution_count": 16,
   "metadata": {},
   "outputs": [
    {
     "name": "stdout",
     "output_type": "stream",
     "text": [
      "The reverse of Srisab is basirS\n"
     ]
    }
   ],
   "source": [
    "# 6. Program to reverse a given string using a \"for\" loop.\n",
    "\n",
    "# Taking input from the user\n",
    "word = input(\"Enter a string/word: \")\n",
    "rev_word = \"\"\n",
    "\n",
    "# Reversing the given string\n",
    "for char in word:\n",
    "    rev_word = char + rev_word\n",
    "\n",
    "print(f\"The reverse of {word} is {rev_word}\")"
   ]
  },
  {
   "cell_type": "markdown",
   "metadata": {},
   "source": [
    "## Section 3: Functions"
   ]
  },
  {
   "cell_type": "code",
   "execution_count": 18,
   "metadata": {},
   "outputs": [
    {
     "name": "stdout",
     "output_type": "stream",
     "text": [
      "The factorial of 10 is 3628800\n"
     ]
    }
   ],
   "source": [
    "# 1. Function \"factorial(n)\" that returns the factorial of a number using a for loop.\n",
    "\n",
    "# Ask number from the user\n",
    "fact_num = int(input(\"Input your favourite number\"))\n",
    "\n",
    "# Defining the function\n",
    "def factorial():\n",
    "    start = 1\n",
    "    for factorial in range(1, fact_num + 1):\n",
    "        start *= factorial\n",
    "    return start\n",
    "\n",
    "# Calling the function\n",
    "print(f\"The factorial of {fact_num} is\", factorial())"
   ]
  },
  {
   "cell_type": "code",
   "execution_count": 14,
   "metadata": {},
   "outputs": [
    {
     "name": "stdout",
     "output_type": "stream",
     "text": [
      "False\n"
     ]
    }
   ],
   "source": [
    "# 2. Function \"is_prime(n)\" to check whether a number is a prime number.\n",
    "\n",
    "# Defining the function\n",
    "def is_prime(n):\n",
    "    if n <= 1:\n",
    "        return False\n",
    "    for i in range(2, int(n**0.5) + 1):\n",
    "        if n % i == 0:\n",
    "            return False\n",
    "            break\n",
    "        else:\n",
    "            return True\n",
    "\n",
    "# Asking the user for input\n",
    "inp = int(input(\"Enter the number: \"))\n",
    "\n",
    "# Calling the function\n",
    "print(is_prime(inp))"
   ]
  },
  {
   "cell_type": "code",
   "execution_count": 37,
   "metadata": {},
   "outputs": [
    {
     "name": "stdout",
     "output_type": "stream",
     "text": [
      "The maximum value is 10\n"
     ]
    }
   ],
   "source": [
    "# 3. Function \"find_max(lst)\" to find and return the maximum value in a list.\n",
    "\n",
    "# Defining the function\n",
    "def find_max(lst):\n",
    "    max_value = lst[0]\n",
    "    for num in lst:\n",
    "        if num > max_value:\n",
    "            max_value = num\n",
    "    return max_value\n",
    "        \n",
    "# Asking the user for input\n",
    "input_user =input(\"Enter the numbers separated by space \")\n",
    "lst = list(map(int, input_user.split()))\n",
    "\n",
    "# Calling the function\n",
    "print(\"The maximum value is\", find_max(lst))"
   ]
  },
  {
   "cell_type": "code",
   "execution_count": 43,
   "metadata": {},
   "outputs": [
    {
     "name": "stdout",
     "output_type": "stream",
     "text": [
      "'madam' is a palindrome: True\n"
     ]
    }
   ],
   "source": [
    "# 4. Function \"palindrome_check(string)\" that returns True if the given string is a palindrome, otherwise False.\n",
    "\n",
    "# Defining a function\n",
    "def palindrome_check(string):\n",
    "    return string == string[::-1]\n",
    "\n",
    "# Asking the user for input\n",
    "string = input(\"Enter a word\")\n",
    "\n",
    "# Calling the function\n",
    "print(f\"'{string}' is a palindrome:\", palindrome_check(string))"
   ]
  },
  {
   "cell_type": "code",
   "execution_count": 73,
   "metadata": {},
   "outputs": [
    {
     "name": "stdout",
     "output_type": "stream",
     "text": [
      "The sum of squares of the first 5 natural numbers is: 55\n"
     ]
    }
   ],
   "source": [
    "# 5. Function \"sum_of_squares(n)\"\" that returns the sum of squares of the first n natural numbers.\n",
    "\n",
    "# Defining the function\n",
    "def sum_of_squares(n):\n",
    "    total = 0\n",
    "    for i in range(1, n + 1):\n",
    "        total += i ** 2\n",
    "\n",
    "    return total\n",
    "\n",
    "# Taking input of user\n",
    "n = int(input(\"Enter the number: \"))\n",
    "\n",
    "# Calling the function\n",
    "print(f\"The sum of squares of the first {n} natural numbers is:\", sum_of_squares(n))"
   ]
  },
  {
   "cell_type": "markdown",
   "metadata": {},
   "source": [
    "## Section 4: Classes"
   ]
  },
  {
   "cell_type": "code",
   "execution_count": 74,
   "metadata": {},
   "outputs": [
    {
     "name": "stdout",
     "output_type": "stream",
     "text": [
      "The area of the reactangle is 56\n",
      "The perimeter of the rectangle is 30\n"
     ]
    }
   ],
   "source": [
    "# 1. Rectangle Class: Define a class Rectangle with:\n",
    "# ● Two attributes: length and width.\n",
    "# ● A method area() to calculate the area.\n",
    "# ● A method perimeter() to calculate the perimeter.\n",
    "\n",
    "# Creating Class\n",
    "class Rectangle:\n",
    "    def __init__(self, length, width):\n",
    "        self.length = length\n",
    "        self.width = width\n",
    "    \n",
    "    def area(self):\n",
    "        return self.length * self.width\n",
    "    \n",
    "    def perimeter(self):\n",
    "        return 2 * (self.length + self.width)\n",
    "    \n",
    "# Creating Object\n",
    "Rect1 = Rectangle(7, 8)\n",
    "\n",
    "# Calling the object\n",
    "print(\"The area of the reactangle is\", Rect1.area())\n",
    "print(\"The perimeter of the rectangle is\", Rect1.perimeter())"
   ]
  },
  {
   "cell_type": "code",
   "execution_count": 80,
   "metadata": {},
   "outputs": [
    {
     "name": "stdout",
     "output_type": "stream",
     "text": [
      "Name: Srisab, Roll Number: 33, Marks: 84\n",
      "Passed -----> True\n"
     ]
    }
   ],
   "source": [
    "# 2. Student Class: Create a class Student with:\n",
    "# ● Attributes: name, roll_number, and marks.\n",
    "# ● A method display_details() to print the student's details.\n",
    "# ● A method is_passed() that returns True if marks ≥ 40, else False.\n",
    "\n",
    "# Creating the Class\n",
    "class Student:\n",
    "    def __init__(self, name, roll, marks):\n",
    "        self.name = name\n",
    "        self.roll_number = roll\n",
    "        self.marks = marks\n",
    "\n",
    "    def details(self):\n",
    "        print(f\"Name: {self.name}, Roll Number: {self.roll_number}, Marks: {self.marks}\")\n",
    "\n",
    "    def is_passed(self):\n",
    "        return self.marks >= 40\n",
    "    \n",
    "# Creating an object\n",
    "std = Student(\"Srisab\", 33, 84)\n",
    "\n",
    "# Calling the object\n",
    "std.details()\n",
    "print(\"Passed ----->\", std.is_passed())\n"
   ]
  },
  {
   "cell_type": "code",
   "execution_count": 88,
   "metadata": {},
   "outputs": [
    {
     "name": "stdout",
     "output_type": "stream",
     "text": [
      "The area of the circle is: 153.86\n",
      "The circumference of the circle is: 43.96\n"
     ]
    }
   ],
   "source": [
    "# 3. Define a class Circle with:\n",
    "# ● Attribute: radius.\n",
    "# ● Methods: area() to calculate the area, circumference() to calculate the circumference.\n",
    "\n",
    "# Creating the Class\n",
    "class Circle:\n",
    "    def __init__(self, radius):\n",
    "        self.radius_of_circle = radius\n",
    "\n",
    "    def circle_area(self):\n",
    "        return 3.14 * self.radius_of_circle**2\n",
    "    \n",
    "    def circle_circumference(self):\n",
    "        return 2 * 3.14 * self.radius_of_circle\n",
    "    \n",
    "# Creating an object\n",
    "circle = Circle(7)\n",
    "\n",
    "# Calling the object\n",
    "print(\"The area of the circle is:\", circle.circle_area())\n",
    "print(\"The circumference of the circle is:\", circle.circle_circumference())"
   ]
  },
  {
   "cell_type": "code",
   "execution_count": 95,
   "metadata": {},
   "outputs": [
    {
     "name": "stdout",
     "output_type": "stream",
     "text": [
      "Your account has been deposited by 5000000\n",
      "Your account has been withdrawn by 300\n",
      "Your account balance is: 5004700\n"
     ]
    }
   ],
   "source": [
    "# 4. Create a class BankAccount with:\n",
    "# Attributes: account_number, account_holder, balance.\n",
    "# Methods:\n",
    "# ● deposit(amount) to add money to the account.\n",
    "# ● withdraw(amount) to subtract money (if sufficient balance is available).\n",
    "# ● display_balance() to print the current balance.\n",
    "\n",
    "# Creating the Class\n",
    "class BankAccount:\n",
    "    def __init__(self, account_number, account_holder, balance):\n",
    "        self.acc_num = account_number\n",
    "        self.acc_holder = account_holder\n",
    "        self.bal = balance\n",
    "\n",
    "    def deposit(self, amount):\n",
    "        self.bal += amount\n",
    "        return print(f\"Your account has been deposited by {amount}\")\n",
    "\n",
    "    def withdraw(self, amount):\n",
    "        if amount > self.bal:\n",
    "            print(\"Insufficient balance!\")\n",
    "        else:\n",
    "            self.bal -= amount\n",
    "            return print(f\"Your account has been withdrawn by {amount}\")\n",
    "    \n",
    "    def disp_bal(self):\n",
    "        return self.bal\n",
    "    \n",
    "# Creating an object\n",
    "bnkacc = BankAccount(55500986671, \"Srisab Gautam\", 5000)\n",
    "\n",
    "# Calling the object\n",
    "bnkacc.deposit(int(input(\"Enter the deposit amount\")))\n",
    "bnkacc.withdraw(int(input(\"Enter the withdrawal amount\")))\n",
    "\n",
    "print (\"Your account balance is:\", bnkacc.disp_bal())\n"
   ]
  },
  {
   "cell_type": "code",
   "execution_count": 98,
   "metadata": {},
   "outputs": [
    {
     "name": "stdout",
     "output_type": "stream",
     "text": [
      "Title: Meditations, Author: Marcus Aurelius, Price: 552.5\n"
     ]
    }
   ],
   "source": [
    "# 5. A class Book with:\n",
    "# ● Attributes: title, author, price.\n",
    "# Methods:\n",
    "# ● apply_discount(discount) to reduce the price by a given percentage.\n",
    "# ● display_details() to print the book details.\n",
    "\n",
    "# Creating the Class\n",
    "class Book:\n",
    "    def __init__(self, title, author, price):\n",
    "        self.title = title\n",
    "        self.author = author\n",
    "        self.price = price\n",
    "\n",
    "    def apply_dis(self, discount):\n",
    "        self.price -= self.price * (discount / 100)\n",
    "\n",
    "    def disp_details(self):\n",
    "        print(f\"Title: {self.title}, Author: {self.author}, Price: {self.price}\")\n",
    "\n",
    "# Creating an object\n",
    "book = Book(\"Meditations\", \"Marcus Aurelius\", 650)\n",
    "\n",
    "# Calling the object\n",
    "book.apply_dis(15)\n",
    "book.disp_details()\n"
   ]
  },
  {
   "cell_type": "code",
   "execution_count": 115,
   "metadata": {},
   "outputs": [
    {
     "name": "stdout",
     "output_type": "stream",
     "text": [
      "840\n",
      "-100\n",
      "255\n",
      "Division by zero is not allowed\n"
     ]
    }
   ],
   "source": [
    "# 6. Create a class Calculator with:\n",
    "# ● A method add(a, b) to add two numbers.\n",
    "# ● A method subtract(a, b) to subtract two numbers.\n",
    "# ● A method multiply(a, b) to multiply two numbers.\n",
    "# ● A method divide(a, b) to divide two numbers (handle division by zero gracefully).\n",
    "\n",
    "# Creating the Class\n",
    "class Calculator:\n",
    "    def add(self, a, b):\n",
    "        return a + b\n",
    "\n",
    "    def sub(self, a, b):\n",
    "        return a - b\n",
    "\n",
    "    def multiply(self, a, b):\n",
    "        return a * b\n",
    "\n",
    "    def divide(self, a, b):\n",
    "        try:\n",
    "            return a / b\n",
    "        except ZeroDivisionError:\n",
    "            return \"Division by zero is not allowed\"\n",
    "\n",
    "\n",
    "# Creating an object\n",
    "calc = Calculator()\n",
    "\n",
    "# Calling the object\n",
    "print(calc.add(40, 800))        \n",
    "print(calc.sub(100, 200))   \n",
    "print(calc.multiply(17, 15))    \n",
    "print(calc.divide(70, 0))      \n",
    "\n"
   ]
  },
  {
   "cell_type": "code",
   "execution_count": 116,
   "metadata": {},
   "outputs": [
    {
     "name": "stdout",
     "output_type": "stream",
     "text": [
      "Hello, my name is Aliyah, I am 25 years old, and I am a Female.\n",
      "Hello, my name is Kevin Kosner, I am 42 years old, I am a Male, and I work as a Cyber Security Analyst.\n"
     ]
    }
   ],
   "source": [
    "# 7. Write a class Person with:\n",
    "# ● Attributes: name, age, gender.\n",
    "# ● Method introduce() to print a message like: \"Hello, my name is [name], I am [age] years old, and I am a [gender].\"\n",
    "# ● Create a subclass Employee that adds:\n",
    "# ■ Attribute: job_title.\n",
    "# ■ Override introduce() to include the job title.\n",
    "\n",
    "# Creating two object\n",
    "class Person:\n",
    "    def __init__(self, name, age, gender):\n",
    "        self.name = name\n",
    "        self.age = age\n",
    "        self.gender = gender\n",
    "\n",
    "    def introduce(self):\n",
    "        print(f\"Hello, my name is {self.name}, I am {self.age} years old, and I am a {self.gender}.\")\n",
    "\n",
    "class Employee(Person):\n",
    "    def __init__(self, name, age, gender, job_title):\n",
    "        super().__init__(name, age, gender)\n",
    "        self.job_title = job_title\n",
    "\n",
    "    def introduce(self):\n",
    "        print(f\"Hello, my name is {self.name}, I am {self.age} years old, I am a {self.gender}, and I work as a {self.job_title}.\")\n",
    "\n",
    "# Create a Person instance\n",
    "person = Person(\"Aliyah\", 25, \"Female\")\n",
    "person.introduce()\n",
    "\n",
    "# Create an Employee instance\n",
    "employee = Employee(\"Kevin Kosner\", 42, \"Male\", \"Cyber Security Analyst\")\n",
    "employee.introduce()\n",
    "\n"
   ]
  },
  {
   "cell_type": "markdown",
   "metadata": {},
   "source": [
    "## Section 5: File Handling"
   ]
  },
  {
   "cell_type": "code",
   "execution_count": 122,
   "metadata": {},
   "outputs": [
    {
     "name": "stdout",
     "output_type": "stream",
     "text": [
      "1\n",
      "2\n",
      "3\n",
      "4\n",
      "5\n",
      "6\n",
      "7\n",
      "8\n",
      "9\n",
      "10\n",
      "\n"
     ]
    }
   ],
   "source": [
    "# 1. File Creation and Writing: Write a Python script to:\n",
    "# ● Create a file named data.txt.\n",
    "# ● Write the numbers from 1 to 10 (each on a new line) to the file.\n",
    "# ● Read the file and print its contents.\n",
    "\n",
    "# Creating and writing to the file\n",
    "with open(\"data.txt\", \"w\") as file:\n",
    "    for i in range(1, 11):\n",
    "        file.write(f\"{i}\\n\")\n",
    "file.close()\n",
    "\n",
    "# Reading and printing the file contents\n",
    "with open(\"data.txt\", \"r\") as file:\n",
    "    print(file.read())\n"
   ]
  },
  {
   "cell_type": "code",
   "execution_count": 124,
   "metadata": {},
   "outputs": [
    {
     "name": "stdout",
     "output_type": "stream",
     "text": [
      "The word count of the file is: {121}\n"
     ]
    }
   ],
   "source": [
    "# 2. Word Count in File: Write a program that reads a file named sample.txt, counts the number of words in it, and prints the result.\n",
    "\n",
    "# Creating the file\n",
    "with open(\"sample.txt\", \"w\") as file:\n",
    "    file.write(\"Python is a versatile, high-level programming language that is known for its simplicity and readability, making it an excellent choice for beginners and experts alike. With its clear syntax and extensive library support, Python allows developers to build a wide variety of applications, from web development and data analysis to artificial intelligence and automation. Python's dynamic typing and object-oriented nature make it easy to write and maintain code. Its popularity has grown significantly over the years due to its active community, rich ecosystem of frameworks like Django and Flask, and strong support for integration with other technologies. Whether for rapid prototyping or large-scale projects, Python has proven itself to be a powerful and efficient tool in the world of software development.\")\n",
    "file.close()\n",
    "\n",
    "# Reading the file and counting the words\n",
    "file = open(\"sample.txt\", \"r\")\n",
    "text = file.read()\n",
    "word_count = len(text.split())\n",
    "print(f\"The word count of the file is:\", {word_count})"
   ]
  },
  {
   "cell_type": "markdown",
   "metadata": {},
   "source": [
    "## Section 6: Error Handling"
   ]
  },
  {
   "cell_type": "code",
   "execution_count": 126,
   "metadata": {},
   "outputs": [
    {
     "name": "stdout",
     "output_type": "stream",
     "text": [
      "Error: Division by zero is not allowed.\n"
     ]
    }
   ],
   "source": [
    "# 1. Division with Error Handling: Write a program that takes two numbers as input and divides the first number by the second.\n",
    "# ● Use try and except to handle the division by zero error.\n",
    "\n",
    "try:\n",
    "    x = float(input(\"Enter the first number: \"))\n",
    "    y = float(input(\"Enter the second number: \"))\n",
    "    division = x / y\n",
    "    print(f\"Result: {division}\")\n",
    "except ZeroDivisionError:\n",
    "    print(\"Error: Division by zero is not allowed.\")"
   ]
  },
  {
   "cell_type": "code",
   "execution_count": 127,
   "metadata": {},
   "outputs": [
    {
     "name": "stdout",
     "output_type": "stream",
     "text": [
      "Invalid input, please enter an integer.\n"
     ]
    }
   ],
   "source": [
    "# 2. Integer Input Validation: Create a program that asks the user to input an integer.\n",
    "# ● Use try, except, and else to handle invalid input.\n",
    "\n",
    "try:\n",
    "    number = int(input(\"Enter an integer: \"))\n",
    "    print(f\"You entered: {number}\")\n",
    "except ValueError:\n",
    "    print(\"Invalid input, please enter an integer.\")\n"
   ]
  },
  {
   "cell_type": "code",
   "execution_count": 128,
   "metadata": {},
   "outputs": [
    {
     "name": "stdout",
     "output_type": "stream",
     "text": [
      "Error: The file 'unknown.txt' was not found.\n"
     ]
    }
   ],
   "source": [
    "# 3. File Not Found Error Handling: Write a script that:\n",
    "# ● Opens a file named unknown.txt.\n",
    "# ● Handles the FileNotFoundError gracefully and prints an appropriate message.\n",
    "\n",
    "try:\n",
    "    with open(\"unknown.txt\", \"r\") as file:\n",
    "        print(file.read())\n",
    "except FileNotFoundError:\n",
    "    print(\"Error: The file 'unknown.txt' was not found.\")\n"
   ]
  }
 ],
 "metadata": {
  "kernelspec": {
   "display_name": "Python 3",
   "language": "python",
   "name": "python3"
  },
  "language_info": {
   "codemirror_mode": {
    "name": "ipython",
    "version": 3
   },
   "file_extension": ".py",
   "mimetype": "text/x-python",
   "name": "python",
   "nbconvert_exporter": "python",
   "pygments_lexer": "ipython3",
   "version": "3.13.0"
  }
 },
 "nbformat": 4,
 "nbformat_minor": 2
}
